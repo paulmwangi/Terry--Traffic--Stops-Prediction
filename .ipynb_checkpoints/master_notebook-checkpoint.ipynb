{
 "cells": [
  {
   "cell_type": "markdown",
   "metadata": {},
   "source": [
    "# Predicting Terry Stop Arrests\n",
    "Author: Carlos Garza"
   ]
  },
  {
   "cell_type": "markdown",
   "metadata": {},
   "source": [
    "# Overview\n",
    "This notebook details the building, tuning and deployment of a categorical model that predicts whether an arrest was made during traffic stops by the Seattle Police. Tools utilized include but are not limited to K-Nearest Neighbors models, decision trees, random forests, and XGBoost.\n",
    "\n",
    "Because the data includes race and gender of both the officers and suspects, this will be a purely objective model based on public data and will not include further social commentary. Social issues regarding race and gender are outside of the scope of this project."
   ]
  },
  {
   "cell_type": "markdown",
   "metadata": {},
   "source": [
    "# Business Problem\n",
    "In the late 1960's, the supreme court ruled in Terry vs. Ohio that \"stop and frisk\" police tactics are not a violation of constitutional rights. Because of this, police can detain a person on the grounds of \"reasonable suspicion,\" even in the absence of clearer evidence.\n",
    "\n",
    "This ruling lead to the coining of the term Terry Stop, which is when an officer of the law briefly detains a driver based on the reasonable suspician that the driver is involved in criminal activity.\n",
    "\n",
    "Based on data from Terry Stops from the Seattle Police Department, a classifying model can be built to predict if a Terry Stop will result in an arrest, and from that model the most influencial factors in an arrest can be determined."
   ]
  },
  {
   "cell_type": "markdown",
   "metadata": {},
   "source": [
    "# Data"
   ]
  },
  {
   "cell_type": "markdown",
   "metadata": {},
   "source": [
    "The data utilized in this project comes from [data.seattle.gov](https://data.seattle.gov/Public-Safety/Terry-Stops/28ny-9ts8) and consists of 46.3k Terry Stops, as reported by the conducting officer. A copy of the csv file can be found in the data folder of this repository or at [data.gov](https://catalog.data.gov/dataset/terry-stops)."
   ]
  },
  {
   "cell_type": "markdown",
   "metadata": {},
   "source": [
    "### Exploratory Data Analysis\n",
    "Exploring the data to develop a preprocessing and modeling strategy"
   ]
  },
  {
   "cell_type": "code",
   "execution_count": 1,
   "metadata": {},
   "outputs": [],
   "source": [
    "import numpy as np\n",
    "import pandas as pd\n",
    "import matplotlib.pyplot as plt\n",
    "import seaborn as sns\n",
    "%matplotlib inline"
   ]
  },
  {
   "cell_type": "code",
   "execution_count": 2,
   "metadata": {},
   "outputs": [
    {
     "data": {
      "text/html": [
       "<div>\n",
       "<style scoped>\n",
       "    .dataframe tbody tr th:only-of-type {\n",
       "        vertical-align: middle;\n",
       "    }\n",
       "\n",
       "    .dataframe tbody tr th {\n",
       "        vertical-align: top;\n",
       "    }\n",
       "\n",
       "    .dataframe thead th {\n",
       "        text-align: right;\n",
       "    }\n",
       "</style>\n",
       "<table border=\"1\" class=\"dataframe\">\n",
       "  <thead>\n",
       "    <tr style=\"text-align: right;\">\n",
       "      <th></th>\n",
       "      <th>Subject Age Group</th>\n",
       "      <th>Subject ID</th>\n",
       "      <th>GO / SC Num</th>\n",
       "      <th>Terry Stop ID</th>\n",
       "      <th>Stop Resolution</th>\n",
       "      <th>Weapon Type</th>\n",
       "      <th>Officer ID</th>\n",
       "      <th>Officer YOB</th>\n",
       "      <th>Officer Gender</th>\n",
       "      <th>Officer Race</th>\n",
       "      <th>...</th>\n",
       "      <th>Reported Time</th>\n",
       "      <th>Initial Call Type</th>\n",
       "      <th>Final Call Type</th>\n",
       "      <th>Call Type</th>\n",
       "      <th>Officer Squad</th>\n",
       "      <th>Arrest Flag</th>\n",
       "      <th>Frisk Flag</th>\n",
       "      <th>Precinct</th>\n",
       "      <th>Sector</th>\n",
       "      <th>Beat</th>\n",
       "    </tr>\n",
       "  </thead>\n",
       "  <tbody>\n",
       "    <tr>\n",
       "      <th>0</th>\n",
       "      <td>18 - 25</td>\n",
       "      <td>-1</td>\n",
       "      <td>20180000221124</td>\n",
       "      <td>432034</td>\n",
       "      <td>Offense Report</td>\n",
       "      <td>NaN</td>\n",
       "      <td>7446</td>\n",
       "      <td>1982</td>\n",
       "      <td>M</td>\n",
       "      <td>Not Specified</td>\n",
       "      <td>...</td>\n",
       "      <td>01:55:00.0000000</td>\n",
       "      <td>PROPERTY - DAMAGE</td>\n",
       "      <td>--SUSPICIOUS CIRCUM. - SUSPICIOUS PERSON</td>\n",
       "      <td>ONVIEW</td>\n",
       "      <td>SOUTH PCT 3RD W - OCEAN - PLATOON 2</td>\n",
       "      <td>N</td>\n",
       "      <td>N</td>\n",
       "      <td>South</td>\n",
       "      <td>O</td>\n",
       "      <td>O1</td>\n",
       "    </tr>\n",
       "    <tr>\n",
       "      <th>1</th>\n",
       "      <td>36 - 45</td>\n",
       "      <td>-1</td>\n",
       "      <td>20180000175132</td>\n",
       "      <td>419952</td>\n",
       "      <td>Offense Report</td>\n",
       "      <td>NaN</td>\n",
       "      <td>4585</td>\n",
       "      <td>1955</td>\n",
       "      <td>M</td>\n",
       "      <td>Hispanic or Latino</td>\n",
       "      <td>...</td>\n",
       "      <td>14:56:00.0000000</td>\n",
       "      <td>SEX IN PUBLIC PLACE/VIEW (INCL MASTURBATION)</td>\n",
       "      <td>--CRISIS COMPLAINT - GENERAL</td>\n",
       "      <td>TELEPHONE OTHER, NOT 911</td>\n",
       "      <td>EAST PCT 2ND W - EDWARD - PLATOON 2</td>\n",
       "      <td>N</td>\n",
       "      <td>N</td>\n",
       "      <td>East</td>\n",
       "      <td>E</td>\n",
       "      <td>E2</td>\n",
       "    </tr>\n",
       "    <tr>\n",
       "      <th>2</th>\n",
       "      <td>26 - 35</td>\n",
       "      <td>-1</td>\n",
       "      <td>20150000090868</td>\n",
       "      <td>29172</td>\n",
       "      <td>Offense Report</td>\n",
       "      <td>NaN</td>\n",
       "      <td>7316</td>\n",
       "      <td>1983</td>\n",
       "      <td>M</td>\n",
       "      <td>American Indian/Alaska Native</td>\n",
       "      <td>...</td>\n",
       "      <td>06:11:00.0000000</td>\n",
       "      <td>DISTURBANCE, MISCELLANEOUS/OTHER</td>\n",
       "      <td>--PROPERTY DEST (DAMG)</td>\n",
       "      <td>911</td>\n",
       "      <td>NaN</td>\n",
       "      <td>N</td>\n",
       "      <td>N</td>\n",
       "      <td>East</td>\n",
       "      <td>E</td>\n",
       "      <td>E1</td>\n",
       "    </tr>\n",
       "    <tr>\n",
       "      <th>3</th>\n",
       "      <td>26 - 35</td>\n",
       "      <td>-1</td>\n",
       "      <td>20180000360334</td>\n",
       "      <td>494698</td>\n",
       "      <td>Offense Report</td>\n",
       "      <td>NaN</td>\n",
       "      <td>5715</td>\n",
       "      <td>1962</td>\n",
       "      <td>M</td>\n",
       "      <td>White</td>\n",
       "      <td>...</td>\n",
       "      <td>21:07:00.0000000</td>\n",
       "      <td>OFF DUTY EMPLOYMENT</td>\n",
       "      <td>-OFF DUTY EMPLOYMENT</td>\n",
       "      <td>ONVIEW</td>\n",
       "      <td>SOUTHWEST PCT - 1ST WATCH - F/W RELIEF</td>\n",
       "      <td>N</td>\n",
       "      <td>N</td>\n",
       "      <td>West</td>\n",
       "      <td>D</td>\n",
       "      <td>D2</td>\n",
       "    </tr>\n",
       "    <tr>\n",
       "      <th>4</th>\n",
       "      <td>18 - 25</td>\n",
       "      <td>49432987965</td>\n",
       "      <td>20230000127920</td>\n",
       "      <td>49408991212</td>\n",
       "      <td>Arrest</td>\n",
       "      <td>-</td>\n",
       "      <td>8474</td>\n",
       "      <td>1976</td>\n",
       "      <td>M</td>\n",
       "      <td>White</td>\n",
       "      <td>...</td>\n",
       "      <td>00:26:19.0000000</td>\n",
       "      <td>BURG - IP/JO - COMM BURG (INCLUDES SCHOOLS)</td>\n",
       "      <td>--BURGLARY - NON RESIDENTIAL/COMMERCIAL</td>\n",
       "      <td>911</td>\n",
       "      <td>EAST PCT 3RD W - EDWARD (CHARLIE) - PLATOON 1</td>\n",
       "      <td>Y</td>\n",
       "      <td>N</td>\n",
       "      <td>East</td>\n",
       "      <td>E</td>\n",
       "      <td>E1</td>\n",
       "    </tr>\n",
       "  </tbody>\n",
       "</table>\n",
       "<p>5 rows × 23 columns</p>\n",
       "</div>"
      ],
      "text/plain": [
       "  Subject Age Group   Subject ID     GO / SC Num  Terry Stop ID  \\\n",
       "0           18 - 25           -1  20180000221124         432034   \n",
       "1           36 - 45           -1  20180000175132         419952   \n",
       "2           26 - 35           -1  20150000090868          29172   \n",
       "3           26 - 35           -1  20180000360334         494698   \n",
       "4           18 - 25  49432987965  20230000127920    49408991212   \n",
       "\n",
       "  Stop Resolution Weapon Type Officer ID  Officer YOB Officer Gender  \\\n",
       "0  Offense Report         NaN       7446         1982              M   \n",
       "1  Offense Report         NaN       4585         1955              M   \n",
       "2  Offense Report         NaN       7316         1983              M   \n",
       "3  Offense Report         NaN       5715         1962              M   \n",
       "4          Arrest           -       8474         1976              M   \n",
       "\n",
       "                    Officer Race  ...     Reported Time  \\\n",
       "0                  Not Specified  ...  01:55:00.0000000   \n",
       "1             Hispanic or Latino  ...  14:56:00.0000000   \n",
       "2  American Indian/Alaska Native  ...  06:11:00.0000000   \n",
       "3                          White  ...  21:07:00.0000000   \n",
       "4                          White  ...  00:26:19.0000000   \n",
       "\n",
       "                              Initial Call Type  \\\n",
       "0                             PROPERTY - DAMAGE   \n",
       "1  SEX IN PUBLIC PLACE/VIEW (INCL MASTURBATION)   \n",
       "2              DISTURBANCE, MISCELLANEOUS/OTHER   \n",
       "3                           OFF DUTY EMPLOYMENT   \n",
       "4   BURG - IP/JO - COMM BURG (INCLUDES SCHOOLS)   \n",
       "\n",
       "                            Final Call Type                 Call Type  \\\n",
       "0  --SUSPICIOUS CIRCUM. - SUSPICIOUS PERSON                    ONVIEW   \n",
       "1              --CRISIS COMPLAINT - GENERAL  TELEPHONE OTHER, NOT 911   \n",
       "2                    --PROPERTY DEST (DAMG)                       911   \n",
       "3                      -OFF DUTY EMPLOYMENT                    ONVIEW   \n",
       "4   --BURGLARY - NON RESIDENTIAL/COMMERCIAL                       911   \n",
       "\n",
       "                                   Officer Squad Arrest Flag Frisk Flag  \\\n",
       "0            SOUTH PCT 3RD W - OCEAN - PLATOON 2           N          N   \n",
       "1            EAST PCT 2ND W - EDWARD - PLATOON 2           N          N   \n",
       "2                                            NaN           N          N   \n",
       "3         SOUTHWEST PCT - 1ST WATCH - F/W RELIEF           N          N   \n",
       "4  EAST PCT 3RD W - EDWARD (CHARLIE) - PLATOON 1           Y          N   \n",
       "\n",
       "  Precinct Sector Beat  \n",
       "0    South      O   O1  \n",
       "1     East      E   E2  \n",
       "2     East      E   E1  \n",
       "3     West      D   D2  \n",
       "4     East      E   E1  \n",
       "\n",
       "[5 rows x 23 columns]"
      ]
     },
     "execution_count": 2,
     "metadata": {},
     "output_type": "execute_result"
    }
   ],
   "source": [
    "df = pd.read_csv('Terry_Stops.csv')\n",
    "df.head()"
   ]
  },
  {
   "cell_type": "code",
   "execution_count": 3,
   "metadata": {
    "scrolled": false
   },
   "outputs": [
    {
     "name": "stdout",
     "output_type": "stream",
     "text": [
      "<class 'pandas.core.frame.DataFrame'>\n",
      "RangeIndex: 59219 entries, 0 to 59218\n",
      "Data columns (total 23 columns):\n",
      " #   Column                    Non-Null Count  Dtype \n",
      "---  ------                    --------------  ----- \n",
      " 0   Subject Age Group         59219 non-null  object\n",
      " 1   Subject ID                59219 non-null  int64 \n",
      " 2   GO / SC Num               59219 non-null  int64 \n",
      " 3   Terry Stop ID             59219 non-null  int64 \n",
      " 4   Stop Resolution           59219 non-null  object\n",
      " 5   Weapon Type               26654 non-null  object\n",
      " 6   Officer ID                59219 non-null  object\n",
      " 7   Officer YOB               59219 non-null  int64 \n",
      " 8   Officer Gender            59219 non-null  object\n",
      " 9   Officer Race              59219 non-null  object\n",
      " 10  Subject Perceived Race    59219 non-null  object\n",
      " 11  Subject Perceived Gender  59219 non-null  object\n",
      " 12  Reported Date             59219 non-null  object\n",
      " 13  Reported Time             59219 non-null  object\n",
      " 14  Initial Call Type         59219 non-null  object\n",
      " 15  Final Call Type           59219 non-null  object\n",
      " 16  Call Type                 59219 non-null  object\n",
      " 17  Officer Squad             58664 non-null  object\n",
      " 18  Arrest Flag               59219 non-null  object\n",
      " 19  Frisk Flag                59219 non-null  object\n",
      " 20  Precinct                  59219 non-null  object\n",
      " 21  Sector                    59219 non-null  object\n",
      " 22  Beat                      59219 non-null  object\n",
      "dtypes: int64(4), object(19)\n",
      "memory usage: 10.4+ MB\n"
     ]
    }
   ],
   "source": [
    "df.info()"
   ]
  },
  {
   "cell_type": "code",
   "execution_count": 4,
   "metadata": {
    "scrolled": true
   },
   "outputs": [
    {
     "name": "stdout",
     "output_type": "stream",
     "text": [
      "Subject Age Group \n",
      "\n",
      "Subject Age Group\n",
      "26 - 35         19758\n",
      "36 - 45         13161\n",
      "18 - 25         11304\n",
      "46 - 55          7522\n",
      "56 and Above     3133\n",
      "1 - 17           2239\n",
      "-                2102\n",
      "Name: count, dtype: int64\n",
      "_________\n",
      "Subject ID \n",
      "\n",
      "Subject ID\n",
      "-1              35048\n",
      " 7753260438        27\n",
      " 7774286580        21\n",
      " 7731717691        20\n",
      " 7726918259        20\n",
      "                ...  \n",
      " 41124788172        1\n",
      " 8300521618         1\n",
      " 22420232780        1\n",
      " 35885368221        1\n",
      " 7726391598         1\n",
      "Name: count, Length: 16104, dtype: int64\n",
      "_________\n",
      "GO / SC Num \n",
      "\n",
      "GO / SC Num\n",
      "20160000378750    16\n",
      "20150000190790    16\n",
      "20180000134604    14\n",
      "20230000049052    14\n",
      "20210000267148    14\n",
      "                  ..\n",
      "20220000345339     1\n",
      "20150000004558     1\n",
      "20150000002188     1\n",
      "20180000342009     1\n",
      "20200000029500     1\n",
      "Name: count, Length: 47310, dtype: int64\n",
      "_________\n",
      "Terry Stop ID \n",
      "\n",
      "Terry Stop ID\n",
      "19324329995    3\n",
      "15045077325    3\n",
      "27511831225    3\n",
      "13080077761    3\n",
      "36014210659    3\n",
      "              ..\n",
      "45901693629    1\n",
      "374336         1\n",
      "475170         1\n",
      "500012         1\n",
      "12246974522    1\n",
      "Name: count, Length: 59128, dtype: int64\n",
      "_________\n",
      "Stop Resolution \n",
      "\n",
      "Stop Resolution\n",
      "Field Contact               29318\n",
      "Offense Report              14502\n",
      "Arrest                      14459\n",
      "Referred for Prosecution      726\n",
      "Citation / Infraction         214\n",
      "Name: count, dtype: int64\n",
      "_________\n",
      "Weapon Type \n",
      "\n",
      "Weapon Type\n",
      "-                                       22933\n",
      "Lethal Cutting Instrument                1482\n",
      "Knife/Cutting/Stabbing Instrument        1237\n",
      "Handgun                                   382\n",
      "Blunt Object/Striking Implement           160\n",
      "Firearm Other                             100\n",
      "Firearm                                    98\n",
      "Other Firearm                              69\n",
      "Mace/Pepper Spray                          54\n",
      "Club, Blackjack, Brass Knuckles            49\n",
      "None/Not Applicable                        16\n",
      "Taser/Stun Gun                             15\n",
      "Firearm (unk type)                         15\n",
      "Fire/Incendiary Device                     13\n",
      "Rifle                                      11\n",
      "Club                                        9\n",
      "Shotgun                                     4\n",
      "Personal Weapons (hands, feet, etc.)        2\n",
      "Automatic Handgun                           2\n",
      "Blackjack                                   1\n",
      "Brass Knuckles                              1\n",
      "Poison                                      1\n",
      "Name: count, dtype: int64\n",
      "_________\n",
      "Officer ID \n",
      "\n",
      "Officer ID\n",
      "7456    520\n",
      "7773    366\n",
      "7634    359\n",
      "7690    351\n",
      "7765    342\n",
      "       ... \n",
      "7563      1\n",
      "5963      1\n",
      "8982      1\n",
      "8876      1\n",
      "7496      1\n",
      "Name: count, Length: 1368, dtype: int64\n",
      "_________\n",
      "Officer YOB \n",
      "\n",
      "Officer YOB\n",
      "1986    3966\n",
      "1987    3707\n",
      "1991    3320\n",
      "1992    3170\n",
      "1984    3080\n",
      "1990    2987\n",
      "1985    2830\n",
      "1989    2768\n",
      "1988    2539\n",
      "1995    2173\n",
      "1993    2079\n",
      "1982    2030\n",
      "1983    1996\n",
      "1979    1853\n",
      "1994    1705\n",
      "1981    1682\n",
      "1976    1327\n",
      "1971    1303\n",
      "1996    1268\n",
      "1978    1250\n",
      "1977    1144\n",
      "1973    1063\n",
      "1997    1012\n",
      "1980     993\n",
      "1967     834\n",
      "1970     713\n",
      "1968     690\n",
      "1969     611\n",
      "1975     609\n",
      "1974     598\n",
      "1972     474\n",
      "1964     470\n",
      "1962     464\n",
      "1965     424\n",
      "1998     268\n",
      "1963     265\n",
      "1961     252\n",
      "1966     247\n",
      "1958     222\n",
      "1959     174\n",
      "1960     161\n",
      "1900     100\n",
      "1999      93\n",
      "2000      72\n",
      "1954      44\n",
      "1957      43\n",
      "2001      39\n",
      "1953      36\n",
      "1955      21\n",
      "1956      17\n",
      "1948      11\n",
      "1952       9\n",
      "2002       5\n",
      "1949       5\n",
      "1946       2\n",
      "1951       1\n",
      "Name: count, dtype: int64\n",
      "_________\n",
      "Officer Gender \n",
      "\n",
      "Officer Gender\n",
      "M    52481\n",
      "F     6708\n",
      "N       30\n",
      "Name: count, dtype: int64\n",
      "_________\n",
      "Officer Race \n",
      "\n",
      "Officer Race\n",
      "White                            42625\n",
      "Two or More Races                 3940\n",
      "Hispanic or Latino                3843\n",
      "Asian                             2745\n",
      "Not Specified                     2711\n",
      "Black or African American         2378\n",
      "Nat Hawaiian/Oth Pac Islander      532\n",
      "American Indian/Alaska Native      345\n",
      "Unknown                            100\n",
      "Name: count, dtype: int64\n",
      "_________\n",
      "Subject Perceived Race \n",
      "\n",
      "Subject Perceived Race\n",
      "White                                        29033\n",
      "Black or African American                    17750\n",
      "Unknown                                       4183\n",
      "Asian                                         2023\n",
      "-                                             1814\n",
      "Hispanic                                      1684\n",
      "American Indian or Alaska Native              1622\n",
      "Multi-Racial                                   809\n",
      "Other                                          152\n",
      "Native Hawaiian or Other Pacific Islander      148\n",
      "DUPLICATE                                        1\n",
      "Name: count, dtype: int64\n",
      "_________\n",
      "Subject Perceived Gender \n",
      "\n",
      "Subject Perceived Gender\n",
      "Male                                                         46742\n",
      "Female                                                       11788\n",
      "Unable to Determine                                            326\n",
      "-                                                              241\n",
      "Unknown                                                         86\n",
      "Gender Diverse (gender non-conforming and/or transgender)       35\n",
      "DUPLICATE                                                        1\n",
      "Name: count, dtype: int64\n",
      "_________\n",
      "Reported Date \n",
      "\n",
      "Reported Date\n",
      "2015-10-01T00:00:00Z    101\n",
      "2015-09-29T00:00:00Z     66\n",
      "2015-05-28T00:00:00Z     57\n",
      "2015-07-18T00:00:00Z     55\n",
      "2019-04-26T00:00:00Z     54\n",
      "                       ... \n",
      "2015-05-13T00:00:00Z      1\n",
      "2015-03-31T00:00:00Z      1\n",
      "2015-04-14T00:00:00Z      1\n",
      "2015-05-06T00:00:00Z      1\n",
      "2015-04-28T00:00:00Z      1\n",
      "Name: count, Length: 3278, dtype: int64\n",
      "_________\n",
      "Reported Time \n",
      "\n",
      "Reported Time\n",
      "02:56:00.0000000    52\n",
      "03:09:00.0000000    52\n",
      "17:00:00.0000000    51\n",
      "03:13:00.0000000    51\n",
      "19:18:00.0000000    51\n",
      "                    ..\n",
      "17:16:54.0000000     1\n",
      "03:08:29.0000000     1\n",
      "19:27:41.0000000     1\n",
      "14:37:30.0000000     1\n",
      "23:49:48.0000000     1\n",
      "Name: count, Length: 22354, dtype: int64\n",
      "_________\n",
      "Initial Call Type \n",
      "\n",
      "Initial Call Type\n",
      "-                                                 13429\n",
      "SUSPICIOUS STOP - OFFICER INITIATED ONVIEW         4474\n",
      "SUSPICIOUS PERSON, VEHICLE OR INCIDENT             4069\n",
      "DISTURBANCE, MISCELLANEOUS/OTHER                   2998\n",
      "ASLT - IP/JO - WITH OR W/O WPNS (NO SHOOTINGS)     2654\n",
      "                                                  ...  \n",
      "ORDER - ASSIST DV VIC W/SRVC OF COURT ORDER           1\n",
      "UNKNOWN - ANI/ALI - PAY PHNS (INCL OPEN LINE)         1\n",
      "MISSING - (ALZHEIMER, ENDANGERED, ELDERLY)            1\n",
      "ANIMAL, REPORT - BITE                                 1\n",
      "VICE - PORNOGRAPHY                                    1\n",
      "Name: count, Length: 176, dtype: int64\n",
      "_________\n",
      "Final Call Type \n",
      "\n",
      "Final Call Type\n",
      "-                                               13429\n",
      "--SUSPICIOUS CIRCUM. - SUSPICIOUS PERSON         5393\n",
      "--PROWLER - TRESPASS                             4194\n",
      "--DISTURBANCE - OTHER                            3521\n",
      "--ASSAULTS, OTHER                                2971\n",
      "                                                ...  \n",
      "--TRAFFIC - TRAFFIC CONTROL (SPECIAL EVENTS)        1\n",
      "--PREMISE CHECKS - REQUEST TO WATCH                 1\n",
      "--HARBOR - ASSIST BOATER (NON EMERG)                1\n",
      "SHOTS -DELAY/INCLUDES HEARD/NO ASSAULT              1\n",
      "DIST - DV - NO ASLT                                 1\n",
      "Name: count, Length: 193, dtype: int64\n",
      "_________\n",
      "Call Type \n",
      "\n",
      "Call Type\n",
      "911                              28024\n",
      "-                                13429\n",
      "ONVIEW                           13224\n",
      "TELEPHONE OTHER, NOT 911          3997\n",
      "ALARM CALL (NOT POLICE ALARM)      515\n",
      "TEXT MESSAGE                        29\n",
      "SCHEDULED EVENT (RECURRING)          1\n",
      "Name: count, dtype: int64\n",
      "_________\n",
      "Officer Squad \n",
      "\n",
      "Officer Squad\n",
      "TRAINING - FIELD TRAINING SQUAD            6305\n",
      "WEST PCT 1ST W - DAVID - PLATOON 1         1706\n",
      "SOUTHWEST PCT 2ND W - FRANK - PLATOON 2    1254\n",
      "WEST PCT 3RD W - KING - PLATOON 1          1218\n",
      "WEST PCT 3RD W - DAVID - PLATOON 1         1213\n",
      "                                           ... \n",
      "TRAF - MOTORCYCLE UNIT - T3 SQUAD             1\n",
      "EAST PCT 2ND W - EDWARD                       1\n",
      "NORTH PCT 1ST W - NORA (JOHN)                 1\n",
      "TRAINING - ADVANCED UNIT ADMINISTRATION       1\n",
      "FORCE REVIEW SQUAD                            1\n",
      "Name: count, Length: 269, dtype: int64\n",
      "_________\n",
      "Arrest Flag \n",
      "\n",
      "Arrest Flag\n",
      "N    52970\n",
      "Y     6249\n",
      "Name: count, dtype: int64\n",
      "_________\n",
      "Frisk Flag \n",
      "\n",
      "Frisk Flag\n",
      "N    44663\n",
      "Y    14078\n",
      "-      478\n",
      "Name: count, dtype: int64\n",
      "_________\n",
      "Precinct \n",
      "\n",
      "Precinct\n",
      "West         16115\n",
      "North        12604\n",
      "-            10541\n",
      "East          7879\n",
      "South         7168\n",
      "Southwest     4598\n",
      "Unknown        200\n",
      "OOJ             89\n",
      "FK ERROR        25\n",
      "Name: count, dtype: int64\n",
      "_________\n",
      "Sector \n",
      "\n",
      "Sector\n",
      "-      10744\n",
      "K       5300\n",
      "M       4909\n",
      "E       4077\n",
      "N       3513\n",
      "D       3392\n",
      "F       2776\n",
      "B       2703\n",
      "R       2683\n",
      "Q       2510\n",
      "L       2470\n",
      "O       2306\n",
      "U       2184\n",
      "S       2178\n",
      "G       2038\n",
      "W       1820\n",
      "C       1764\n",
      "J       1732\n",
      "OOJ       67\n",
      "99        53\n",
      "Name: count, dtype: int64\n",
      "_________\n",
      "Beat \n",
      "\n",
      "Beat\n",
      "-           10686\n",
      "K3           2980\n",
      "M3           2333\n",
      "N3           1734\n",
      "E2           1700\n",
      "E1           1347\n",
      "N2           1331\n",
      "M2           1320\n",
      "D1           1320\n",
      "D2           1270\n",
      "M1           1259\n",
      "K2           1259\n",
      "R2           1243\n",
      "Q3           1202\n",
      "F2           1149\n",
      "K1           1061\n",
      "E3           1028\n",
      "B2           1024\n",
      "U2           1014\n",
      "B1           1000\n",
      "O1            933\n",
      "S2            859\n",
      "L2            856\n",
      "F3            822\n",
      "L1            820\n",
      "F1            805\n",
      "D3            802\n",
      "L3            794\n",
      "R1            781\n",
      "W2            778\n",
      "G2            770\n",
      "Q2            744\n",
      "U1            742\n",
      "O3            734\n",
      "C1            714\n",
      "S3            714\n",
      "G3            692\n",
      "B3            681\n",
      "R3            659\n",
      "J3            656\n",
      "O2            640\n",
      "J1            637\n",
      "C3            614\n",
      "S1            605\n",
      "W1            598\n",
      "G1            575\n",
      "Q1            564\n",
      "N1            447\n",
      "W3            445\n",
      "J2            439\n",
      "C2            437\n",
      "U3            428\n",
      "99            121\n",
      "OOJ            48\n",
      "FK ERROR        3\n",
      "S               2\n",
      "Name: count, dtype: int64\n",
      "_________\n"
     ]
    }
   ],
   "source": [
    "for column in df.columns:\n",
    "    print(column, '\\n')\n",
    "    print(df[column].value_counts())\n",
    "    print('_________')"
   ]
  },
  {
   "cell_type": "code",
   "execution_count": 5,
   "metadata": {},
   "outputs": [
    {
     "data": {
      "text/plain": [
       "<Axes: >"
      ]
     },
     "execution_count": 5,
     "metadata": {},
     "output_type": "execute_result"
    },
    {
     "data": {
      "image/png": "[encoded data removed]",
      "text/plain": [
       "<Figure size 640x480 with 1 Axes>"
      ]
     },
     "metadata": {},
     "output_type": "display_data"
    }
   ],
   "source": [
    "df['Officer YOB'].hist()"
   ]
  },
  {
   "cell_type": "markdown",
   "metadata": {},
   "source": [
    "### Data Preprocessing"
   ]
  },
  {
   "cell_type": "markdown",
   "metadata": {},
   "source": [
    "To begin I dropped the columns that identify specific suspects or officers, as well as locational variables to make a more generalized dataset. Additionally, call types were dropped as the categorical data is expansive."
   ]
  },
  {
   "cell_type": "code",
   "execution_count": 6,
   "metadata": {},
   "outputs": [],
   "source": [
    "to_drop = ['Subject ID', 'GO / SC Num', 'Terry Stop ID', 'Officer ID',\n",
    "           'Initial Call Type', 'Final Call Type', 'Call Type', 'Officer Squad',\n",
    "           'Precinct', 'Sector', 'Beat']"
   ]
  },
  {
   "cell_type": "code",
   "execution_count": 7,
   "metadata": {},
   "outputs": [
    {
     "data": {
      "text/html": [
       "<div>\n",
       "<style scoped>\n",
       "    .dataframe tbody tr th:only-of-type {\n",
       "        vertical-align: middle;\n",
       "    }\n",
       "\n",
       "    .dataframe tbody tr th {\n",
       "        vertical-align: top;\n",
       "    }\n",
       "\n",
       "    .dataframe thead th {\n",
       "        text-align: right;\n",
       "    }\n",
       "</style>\n",
       "<table border=\"1\" class=\"dataframe\">\n",
       "  <thead>\n",
       "    <tr style=\"text-align: right;\">\n",
       "      <th></th>\n",
       "      <th>Subject Age Group</th>\n",
       "      <th>Stop Resolution</th>\n",
       "      <th>Weapon Type</th>\n",
       "      <th>Officer YOB</th>\n",
       "      <th>Officer Gender</th>\n",
       "      <th>Officer Race</th>\n",
       "      <th>Subject Perceived Race</th>\n",
       "      <th>Subject Perceived Gender</th>\n",
       "      <th>Reported Date</th>\n",
       "      <th>Reported Time</th>\n",
       "      <th>Arrest Flag</th>\n",
       "      <th>Frisk Flag</th>\n",
       "    </tr>\n",
       "  </thead>\n",
       "  <tbody>\n",
       "    <tr>\n",
       "      <th>0</th>\n",
       "      <td>18 - 25</td>\n",
       "      <td>Offense Report</td>\n",
       "      <td>NaN</td>\n",
       "      <td>1982</td>\n",
       "      <td>M</td>\n",
       "      <td>Not Specified</td>\n",
       "      <td>White</td>\n",
       "      <td>Male</td>\n",
       "      <td>2018-06-18T00:00:00Z</td>\n",
       "      <td>01:55:00.0000000</td>\n",
       "      <td>N</td>\n",
       "      <td>N</td>\n",
       "    </tr>\n",
       "    <tr>\n",
       "      <th>1</th>\n",
       "      <td>36 - 45</td>\n",
       "      <td>Offense Report</td>\n",
       "      <td>NaN</td>\n",
       "      <td>1955</td>\n",
       "      <td>M</td>\n",
       "      <td>Hispanic or Latino</td>\n",
       "      <td>Black or African American</td>\n",
       "      <td>Male</td>\n",
       "      <td>2018-05-16T00:00:00Z</td>\n",
       "      <td>14:56:00.0000000</td>\n",
       "      <td>N</td>\n",
       "      <td>N</td>\n",
       "    </tr>\n",
       "    <tr>\n",
       "      <th>2</th>\n",
       "      <td>26 - 35</td>\n",
       "      <td>Offense Report</td>\n",
       "      <td>NaN</td>\n",
       "      <td>1983</td>\n",
       "      <td>M</td>\n",
       "      <td>American Indian/Alaska Native</td>\n",
       "      <td>White</td>\n",
       "      <td>Male</td>\n",
       "      <td>2015-03-20T00:00:00Z</td>\n",
       "      <td>06:11:00.0000000</td>\n",
       "      <td>N</td>\n",
       "      <td>N</td>\n",
       "    </tr>\n",
       "    <tr>\n",
       "      <th>3</th>\n",
       "      <td>26 - 35</td>\n",
       "      <td>Offense Report</td>\n",
       "      <td>NaN</td>\n",
       "      <td>1962</td>\n",
       "      <td>M</td>\n",
       "      <td>White</td>\n",
       "      <td>Black or African American</td>\n",
       "      <td>Male</td>\n",
       "      <td>2018-09-26T00:00:00Z</td>\n",
       "      <td>21:07:00.0000000</td>\n",
       "      <td>N</td>\n",
       "      <td>N</td>\n",
       "    </tr>\n",
       "    <tr>\n",
       "      <th>4</th>\n",
       "      <td>18 - 25</td>\n",
       "      <td>Arrest</td>\n",
       "      <td>-</td>\n",
       "      <td>1976</td>\n",
       "      <td>M</td>\n",
       "      <td>White</td>\n",
       "      <td>Unknown</td>\n",
       "      <td>Male</td>\n",
       "      <td>2023-05-11T00:00:00Z</td>\n",
       "      <td>00:26:19.0000000</td>\n",
       "      <td>Y</td>\n",
       "      <td>N</td>\n",
       "    </tr>\n",
       "  </tbody>\n",
       "</table>\n",
       "</div>"
      ],
      "text/plain": [
       "  Subject Age Group Stop Resolution Weapon Type  Officer YOB Officer Gender  \\\n",
       "0           18 - 25  Offense Report         NaN         1982              M   \n",
       "1           36 - 45  Offense Report         NaN         1955              M   \n",
       "2           26 - 35  Offense Report         NaN         1983              M   \n",
       "3           26 - 35  Offense Report         NaN         1962              M   \n",
       "4           18 - 25          Arrest           -         1976              M   \n",
       "\n",
       "                    Officer Race     Subject Perceived Race  \\\n",
       "0                  Not Specified                      White   \n",
       "1             Hispanic or Latino  Black or African American   \n",
       "2  American Indian/Alaska Native                      White   \n",
       "3                          White  Black or African American   \n",
       "4                          White                    Unknown   \n",
       "\n",
       "  Subject Perceived Gender         Reported Date     Reported Time  \\\n",
       "0                     Male  2018-06-18T00:00:00Z  01:55:00.0000000   \n",
       "1                     Male  2018-05-16T00:00:00Z  14:56:00.0000000   \n",
       "2                     Male  2015-03-20T00:00:00Z  06:11:00.0000000   \n",
       "3                     Male  2018-09-26T00:00:00Z  21:07:00.0000000   \n",
       "4                     Male  2023-05-11T00:00:00Z  00:26:19.0000000   \n",
       "\n",
       "  Arrest Flag Frisk Flag  \n",
       "0           N          N  \n",
       "1           N          N  \n",
       "2           N          N  \n",
       "3           N          N  \n",
       "4           Y          N  "
      ]
     },
     "execution_count": 7,
     "metadata": {},
     "output_type": "execute_result"
    }
   ],
   "source": [
    "df.drop(to_drop, axis=1, inplace=True)\n",
    "df.head()"
   ]
  },
  {
   "cell_type": "markdown",
   "metadata": {},
   "source": [
    "In the following lines I use the 'Stop Resolution' and 'Arrest Flag' columns to create a binary 'Arrested' column."
   ]
  },
  {
   "cell_type": "code",
   "execution_count": 8,
   "metadata": {},
   "outputs": [],
   "source": [
    "def define_arrested(resolution, flag):\n",
    "    if resolution == 'Arrest' or flag == 'Y':\n",
    "        return 1\n",
    "    else:\n",
    "        return 0"
   ]
  },
  {
   "cell_type": "code",
   "execution_count": 9,
   "metadata": {},
   "outputs": [],
   "source": [
    "df['Arrested'] = df.apply(lambda x: define_arrested(x['Stop Resolution'], x['Arrest Flag']), axis=1)\n",
    "df.drop(['Stop Resolution', 'Arrest Flag'], axis=1, inplace=True)        "
   ]
  },
  {
   "cell_type": "markdown",
   "metadata": {},
   "source": [
    "For 'Frisk Flag and 'Weapon Type' columns, I will assume that missing data signifies no frisk/weapon. "
   ]
  },
  {
   "cell_type": "code",
   "execution_count": 10,
   "metadata": {},
   "outputs": [],
   "source": [
    "df['Frisk Flag'] = df['Frisk Flag'].map(lambda x: 1 if x == 'Y' else 0)"
   ]
  },
  {
   "cell_type": "code",
   "execution_count": 11,
   "metadata": {},
   "outputs": [],
   "source": [
    "df['Weapon Type'] = df['Weapon Type'].map(lambda x: 'None' if x == '-' else x)"
   ]
  },
  {
   "cell_type": "markdown",
   "metadata": {},
   "source": [
    "For date and time, the data will be converted to numerical 'month' and 'hour' columns respecively. "
   ]
  },
  {
   "cell_type": "code",
   "execution_count": 12,
   "metadata": {},
   "outputs": [],
   "source": [
    "df['Reported Month'] = df['Reported Date'].map(lambda x: int(x[5:7]))\n",
    "df.drop('Reported Date', axis=1, inplace=True)"
   ]
  },
  {
   "cell_type": "code",
   "execution_count": 13,
   "metadata": {},
   "outputs": [],
   "source": [
    "df['Reported Hour'] = df['Reported Time'].map(lambda x: int(x[:2]))\n",
    "df.drop('Reported Time', axis = 1, inplace=True)"
   ]
  },
  {
   "cell_type": "markdown",
   "metadata": {},
   "source": [
    "Outliers and generic place-holder answers are dropped."
   ]
  },
  {
   "cell_type": "code",
   "execution_count": 14,
   "metadata": {},
   "outputs": [],
   "source": [
    "df.drop(df[df['Officer YOB']<1940].index, inplace=True)\n",
    "df.drop(df[df['Subject Perceived Gender']=='-'].index, inplace=True)\n",
    "df.drop(df[df['Subject Perceived Race']=='-'].index, inplace=True)\n",
    "df.drop(df[df['Subject Age Group']=='-'].index, inplace=True)"
   ]
  },
  {
   "cell_type": "markdown",
   "metadata": {},
   "source": [
    "To be sure no collinearity problems will arise, the correlation between dependent variables needs to be checked.\n",
    "\n",
    "Alpha = 0.05"
   ]
  },
  {
   "cell_type": "code",
   "execution_count": 15,
   "metadata": {},
   "outputs": [
    {
     "ename": "ValueError",
     "evalue": "could not convert string to float: '18 - 25'",
     "output_type": "error",
     "traceback": [
      "\u001b[1;31m---------------------------------------------------------------------------\u001b[0m",
      "\u001b[1;31mValueError\u001b[0m                                Traceback (most recent call last)",
      "Cell \u001b[1;32mIn[15], line 1\u001b[0m\n\u001b[1;32m----> 1\u001b[0m \u001b[43mdf\u001b[49m\u001b[38;5;241;43m.\u001b[39;49m\u001b[43mdrop\u001b[49m\u001b[43m(\u001b[49m\u001b[38;5;124;43m'\u001b[39;49m\u001b[38;5;124;43mArrested\u001b[39;49m\u001b[38;5;124;43m'\u001b[39;49m\u001b[43m,\u001b[49m\u001b[43m \u001b[49m\u001b[43maxis\u001b[49m\u001b[38;5;241;43m=\u001b[39;49m\u001b[38;5;241;43m1\u001b[39;49m\u001b[43m)\u001b[49m\u001b[38;5;241;43m.\u001b[39;49m\u001b[43mcorr\u001b[49m\u001b[43m(\u001b[49m\u001b[43m)\u001b[49m\n",
      "File \u001b[1;32m~\\anaconda3\\envs\\learn-env\\lib\\site-packages\\pandas\\core\\frame.py:10707\u001b[0m, in \u001b[0;36mDataFrame.corr\u001b[1;34m(self, method, min_periods, numeric_only)\u001b[0m\n\u001b[0;32m  10705\u001b[0m cols \u001b[38;5;241m=\u001b[39m data\u001b[38;5;241m.\u001b[39mcolumns\n\u001b[0;32m  10706\u001b[0m idx \u001b[38;5;241m=\u001b[39m cols\u001b[38;5;241m.\u001b[39mcopy()\n\u001b[1;32m> 10707\u001b[0m mat \u001b[38;5;241m=\u001b[39m \u001b[43mdata\u001b[49m\u001b[38;5;241;43m.\u001b[39;49m\u001b[43mto_numpy\u001b[49m\u001b[43m(\u001b[49m\u001b[43mdtype\u001b[49m\u001b[38;5;241;43m=\u001b[39;49m\u001b[38;5;28;43mfloat\u001b[39;49m\u001b[43m,\u001b[49m\u001b[43m \u001b[49m\u001b[43mna_value\u001b[49m\u001b[38;5;241;43m=\u001b[39;49m\u001b[43mnp\u001b[49m\u001b[38;5;241;43m.\u001b[39;49m\u001b[43mnan\u001b[49m\u001b[43m,\u001b[49m\u001b[43m \u001b[49m\u001b[43mcopy\u001b[49m\u001b[38;5;241;43m=\u001b[39;49m\u001b[38;5;28;43;01mFalse\u001b[39;49;00m\u001b[43m)\u001b[49m\n\u001b[0;32m  10709\u001b[0m \u001b[38;5;28;01mif\u001b[39;00m method \u001b[38;5;241m==\u001b[39m \u001b[38;5;124m\"\u001b[39m\u001b[38;5;124mpearson\u001b[39m\u001b[38;5;124m\"\u001b[39m:\n\u001b[0;32m  10710\u001b[0m     correl \u001b[38;5;241m=\u001b[39m libalgos\u001b[38;5;241m.\u001b[39mnancorr(mat, minp\u001b[38;5;241m=\u001b[39mmin_periods)\n",
      "File \u001b[1;32m~\\anaconda3\\envs\\learn-env\\lib\\site-packages\\pandas\\core\\frame.py:1892\u001b[0m, in \u001b[0;36mDataFrame.to_numpy\u001b[1;34m(self, dtype, copy, na_value)\u001b[0m\n\u001b[0;32m   1890\u001b[0m \u001b[38;5;28;01mif\u001b[39;00m dtype \u001b[38;5;129;01mis\u001b[39;00m \u001b[38;5;129;01mnot\u001b[39;00m \u001b[38;5;28;01mNone\u001b[39;00m:\n\u001b[0;32m   1891\u001b[0m     dtype \u001b[38;5;241m=\u001b[39m np\u001b[38;5;241m.\u001b[39mdtype(dtype)\n\u001b[1;32m-> 1892\u001b[0m result \u001b[38;5;241m=\u001b[39m \u001b[38;5;28;43mself\u001b[39;49m\u001b[38;5;241;43m.\u001b[39;49m\u001b[43m_mgr\u001b[49m\u001b[38;5;241;43m.\u001b[39;49m\u001b[43mas_array\u001b[49m\u001b[43m(\u001b[49m\u001b[43mdtype\u001b[49m\u001b[38;5;241;43m=\u001b[39;49m\u001b[43mdtype\u001b[49m\u001b[43m,\u001b[49m\u001b[43m \u001b[49m\u001b[43mcopy\u001b[49m\u001b[38;5;241;43m=\u001b[39;49m\u001b[43mcopy\u001b[49m\u001b[43m,\u001b[49m\u001b[43m \u001b[49m\u001b[43mna_value\u001b[49m\u001b[38;5;241;43m=\u001b[39;49m\u001b[43mna_value\u001b[49m\u001b[43m)\u001b[49m\n\u001b[0;32m   1893\u001b[0m \u001b[38;5;28;01mif\u001b[39;00m result\u001b[38;5;241m.\u001b[39mdtype \u001b[38;5;129;01mis\u001b[39;00m \u001b[38;5;129;01mnot\u001b[39;00m dtype:\n\u001b[0;32m   1894\u001b[0m     result \u001b[38;5;241m=\u001b[39m np\u001b[38;5;241m.\u001b[39marray(result, dtype\u001b[38;5;241m=\u001b[39mdtype, copy\u001b[38;5;241m=\u001b[39m\u001b[38;5;28;01mFalse\u001b[39;00m)\n",
      "File \u001b[1;32m~\\anaconda3\\envs\\learn-env\\lib\\site-packages\\pandas\\core\\internals\\managers.py:1656\u001b[0m, in \u001b[0;36mBlockManager.as_array\u001b[1;34m(self, dtype, copy, na_value)\u001b[0m\n\u001b[0;32m   1654\u001b[0m         arr\u001b[38;5;241m.\u001b[39mflags\u001b[38;5;241m.\u001b[39mwriteable \u001b[38;5;241m=\u001b[39m \u001b[38;5;28;01mFalse\u001b[39;00m\n\u001b[0;32m   1655\u001b[0m \u001b[38;5;28;01melse\u001b[39;00m:\n\u001b[1;32m-> 1656\u001b[0m     arr \u001b[38;5;241m=\u001b[39m \u001b[38;5;28;43mself\u001b[39;49m\u001b[38;5;241;43m.\u001b[39;49m\u001b[43m_interleave\u001b[49m\u001b[43m(\u001b[49m\u001b[43mdtype\u001b[49m\u001b[38;5;241;43m=\u001b[39;49m\u001b[43mdtype\u001b[49m\u001b[43m,\u001b[49m\u001b[43m \u001b[49m\u001b[43mna_value\u001b[49m\u001b[38;5;241;43m=\u001b[39;49m\u001b[43mna_value\u001b[49m\u001b[43m)\u001b[49m\n\u001b[0;32m   1657\u001b[0m     \u001b[38;5;66;03m# The underlying data was copied within _interleave, so no need\u001b[39;00m\n\u001b[0;32m   1658\u001b[0m     \u001b[38;5;66;03m# to further copy if copy=True or setting na_value\u001b[39;00m\n\u001b[0;32m   1660\u001b[0m \u001b[38;5;28;01mif\u001b[39;00m na_value \u001b[38;5;129;01mis\u001b[39;00m lib\u001b[38;5;241m.\u001b[39mno_default:\n",
      "File \u001b[1;32m~\\anaconda3\\envs\\learn-env\\lib\\site-packages\\pandas\\core\\internals\\managers.py:1715\u001b[0m, in \u001b[0;36mBlockManager._interleave\u001b[1;34m(self, dtype, na_value)\u001b[0m\n\u001b[0;32m   1713\u001b[0m     \u001b[38;5;28;01melse\u001b[39;00m:\n\u001b[0;32m   1714\u001b[0m         arr \u001b[38;5;241m=\u001b[39m blk\u001b[38;5;241m.\u001b[39mget_values(dtype)\n\u001b[1;32m-> 1715\u001b[0m     \u001b[43mresult\u001b[49m\u001b[43m[\u001b[49m\u001b[43mrl\u001b[49m\u001b[38;5;241;43m.\u001b[39;49m\u001b[43mindexer\u001b[49m\u001b[43m]\u001b[49m \u001b[38;5;241m=\u001b[39m arr\n\u001b[0;32m   1716\u001b[0m     itemmask[rl\u001b[38;5;241m.\u001b[39mindexer] \u001b[38;5;241m=\u001b[39m \u001b[38;5;241m1\u001b[39m\n\u001b[0;32m   1718\u001b[0m \u001b[38;5;28;01mif\u001b[39;00m \u001b[38;5;129;01mnot\u001b[39;00m itemmask\u001b[38;5;241m.\u001b[39mall():\n",
      "\u001b[1;31mValueError\u001b[0m: could not convert string to float: '18 - 25'"
     ]
    }
   ],
   "source": [
    "df.drop('Arrested', axis=1).corr()"
   ]
  },
  {
   "cell_type": "markdown",
   "metadata": {},
   "source": [
    "Lastly, data is separated into training and testing sets and the categorical variables will be one hot encoded."
   ]
  },
  {
   "cell_type": "code",
   "execution_count": 16,
   "metadata": {},
   "outputs": [],
   "source": [
    "from sklearn.model_selection import train_test_split\n",
    "\n",
    "y = df.Arrested\n",
    "X = df.drop('Arrested', axis=1)\n",
    "X = pd.get_dummies(X, drop_first=True)"
   ]
  },
  {
   "cell_type": "code",
   "execution_count": 17,
   "metadata": {},
   "outputs": [],
   "source": [
    "X_train, X_test, y_train, y_test = train_test_split(X, y, random_state=40)"
   ]
  },
  {
   "cell_type": "markdown",
   "metadata": {},
   "source": [
    "# Baseline Models"
   ]
  },
  {
   "cell_type": "markdown",
   "metadata": {},
   "source": [
    "Models that will be auditioned are K Nearest Neighbors, decision trees, random forest, and XGBoost"
   ]
  },
  {
   "cell_type": "code",
   "execution_count": 19,
   "metadata": {},
   "outputs": [],
   "source": [
    "from sklearn.preprocessing import StandardScaler\n",
    "from sklearn.neighbors import KNeighborsClassifier\n",
    "from sklearn.tree import DecisionTreeClassifier\n",
    "from sklearn.ensemble import RandomForestClassifier\n",
    "\n",
    "from sklearn.metrics import accuracy_score"
   ]
  },
  {
   "cell_type": "markdown",
   "metadata": {},
   "source": [
    "### K Nearest Neighbor"
   ]
  },
  {
   "cell_type": "code",
   "execution_count": 20,
   "metadata": {},
   "outputs": [],
   "source": [
    "scaler = StandardScaler()\n",
    "\n",
    "# Transform the training and test sets\n",
    "scaled_X_train = scaler.fit_transform(X_train)\n",
    "scaled_X_test = scaler.transform(X_test)"
   ]
  },
  {
   "cell_type": "code",
   "execution_count": null,
   "metadata": {},
   "outputs": [],
   "source": [
    "knn = KNeighborsClassifier()\n",
    "knn.fit(scaled_X_train, y_train)\n",
    "y_train_pred = knn.predict(scaled_X_train)\n",
    "y_test_pred = knn.predict(scaled_X_test)\n",
    "print('accuracy score: ', accuracy_score(y_test, y_test_pred))"
   ]
  },
  {
   "cell_type": "markdown",
   "metadata": {},
   "source": [
    "### Decision Tree"
   ]
  },
  {
   "cell_type": "code",
   "execution_count": null,
   "metadata": {},
   "outputs": [],
   "source": [
    "dsc = DecisionTreeClassifier(max_depth=3)\n",
    "dsc.fit(X_train, y_train)\n",
    "y_pred = dsc.predict(X_test)\n",
    "print('accuracy score: ', accuracy_score(y_test, y_pred))"
   ]
  },
  {
   "cell_type": "markdown",
   "metadata": {},
   "source": [
    "### Random Forest"
   ]
  },
  {
   "cell_type": "code",
   "execution_count": null,
   "metadata": {},
   "outputs": [],
   "source": [
    "rfc = RandomForestClassifier(max_depth=3)\n",
    "rfc.fit(X_train, y_train)\n",
    "y_pred = rfc.predict(X_test)\n",
    "print('accuracy score: ', accuracy_score(y_test, y_pred))"
   ]
  },
  {
   "cell_type": "markdown",
   "metadata": {},
   "source": [
    "### XGBoost"
   ]
  },
  {
   "cell_type": "code",
   "execution_count": null,
   "metadata": {},
   "outputs": [],
   "source": [
    "xgb = XGBClassifier()\n",
    "xgb.fit(X_train, y_train)\n",
    "y_pred = xgb.predict(X_test)\n",
    "print('accuracy score: ', accuracy_score(y_test, y_pred))"
   ]
  },
  {
   "cell_type": "markdown",
   "metadata": {},
   "source": [
    "Because our decision tree and random forest performed best, they will be focused on moving forward."
   ]
  },
  {
   "cell_type": "markdown",
   "metadata": {},
   "source": [
    "# Model Tuning/Reitteration"
   ]
  },
  {
   "cell_type": "markdown",
   "metadata": {},
   "source": [
    "GridSearchCV will be used to tune the hyperparameters of the algorithms to maximize their performance."
   ]
  },
  {
   "cell_type": "markdown",
   "metadata": {},
   "source": [
    "### Decision Tree"
   ]
  },
  {
   "cell_type": "code",
   "execution_count": null,
   "metadata": {},
   "outputs": [],
   "source": [
    "from sklearn.model_selection import GridSearchCV"
   ]
  },
  {
   "cell_type": "code",
   "execution_count": null,
   "metadata": {},
   "outputs": [],
   "source": [
    "dtc = DecisionTreeClassifier()\n",
    "\n",
    "dt_param_grid = {\n",
    "    'criterion': ['gini', 'entropy'],\n",
    "    'max_depth': [None, 2, 3, 4, 5, 6],\n",
    "    'min_samples_split': [2, 5, 10],\n",
    "    'min_samples_leaf': [1, 2, 3, 4, 5, 6]\n",
    "}\n",
    "\n",
    "gs_tree = GridSearchCV(dtc, dt_param_grid, cv=3)\n",
    "gs_tree.fit(X_train, y_train)\n",
    "gs_tree.best_params_"
   ]
  },
  {
   "cell_type": "code",
   "execution_count": null,
   "metadata": {},
   "outputs": [],
   "source": [
    "gs_tree.score(X_test, y_test)"
   ]
  },
  {
   "cell_type": "code",
   "execution_count": null,
   "metadata": {},
   "outputs": [],
   "source": [
    "rfc = RandomForestClassifier()\n",
    "\n",
    "rf_param_grid = {\n",
    "    'n_estimators': [10, 30, 100],\n",
    "    'criterion': ['gini', 'entropy'],\n",
    "    'max_depth': [None, 2, 4, 6, 10],\n",
    "    'min_samples_split': [5, 10],\n",
    "    'min_samples_leaf': [3, 6]\n",
    "}\n",
    "\n",
    "gs_forest = GridSearchCV(rfc, rf_param_grid, cv=3)\n",
    "gs_forest.fit(X_train, y_train)\n",
    "gs_forest.best_params_"
   ]
  },
  {
   "cell_type": "code",
   "execution_count": null,
   "metadata": {},
   "outputs": [],
   "source": [
    "gs_forest.score(X_test, y_test)"
   ]
  },
  {
   "cell_type": "markdown",
   "metadata": {},
   "source": [
    "Accuracy is slightly improved after optimization, but only by a negligible amount. Models must be further evaluated to find the model with the best performance."
   ]
  },
  {
   "cell_type": "markdown",
   "metadata": {},
   "source": [
    "# Model Evaluation"
   ]
  },
  {
   "cell_type": "markdown",
   "metadata": {},
   "source": [
    "The two contesting models will be further evaluated to narrow down to the best performing model for deployment."
   ]
  },
  {
   "cell_type": "code",
   "execution_count": null,
   "metadata": {},
   "outputs": [],
   "source": [
    "from sklearn.metrics import plot_confusion_matrix, recall_score, precision_score, f1_score\n",
    "\n",
    "def metric_scores(actual, predicted):\n",
    "    print('Accuracy Score: ', accuracy_score(actual, predicted))\n",
    "    print('Recall Score: ', recall_score(actual, predicted))\n",
    "    print('Precision Score: ', precision_score(actual, predicted))\n",
    "    print('F1 Score: ', f1_score(actual, predicted))"
   ]
  },
  {
   "cell_type": "markdown",
   "metadata": {},
   "source": [
    "### Decision Tree"
   ]
  },
  {
   "cell_type": "code",
   "execution_count": null,
   "metadata": {},
   "outputs": [],
   "source": [
    "dtree = DecisionTreeClassifier(criterion='gini', max_depth=3, min_samples_leaf=1, min_samples_split=2)\n",
    "dtree.fit(X_train, y_train)\n",
    "tree_pred = dtree.predict(X_test)"
   ]
  },
  {
   "cell_type": "code",
   "execution_count": null,
   "metadata": {},
   "outputs": [],
   "source": [
    "metric_scores(y_test, tree_pred)"
   ]
  },
  {
   "cell_type": "code",
   "execution_count": null,
   "metadata": {},
   "outputs": [],
   "source": [
    "plot_confusion_matrix(dtree, X_test, y_test, cmap=plt.cm.Blues)\n",
    "plt.title('Decision Tree Confusion Matrix')"
   ]
  },
  {
   "cell_type": "code",
   "execution_count": null,
   "metadata": {},
   "outputs": [],
   "source": [
    "from sklearn import tree\n",
    "fig, axes = plt.subplots(nrows = 1,ncols = 1, figsize = (5,3), dpi=350)\n",
    "tree.plot_tree(dtree,\n",
    "               feature_names = X_train.columns, \n",
    "               class_names=np.unique(y_train).astype('str'),\n",
    "               filled = False)\n",
    "plt.show()"
   ]
  },
  {
   "cell_type": "markdown",
   "metadata": {},
   "source": [
    "The tree is not overfitted, but does have a large amount of false negative predictions."
   ]
  },
  {
   "cell_type": "markdown",
   "metadata": {},
   "source": [
    "### Random Forest"
   ]
  },
  {
   "cell_type": "code",
   "execution_count": null,
   "metadata": {},
   "outputs": [],
   "source": [
    "rforest = RandomForestClassifier(criterion='gini', max_depth=None, min_samples_leaf=6,\n",
    "                                 min_samples_split=10, n_estimators=100)\n",
    "rforest.fit(X_train, y_train)\n",
    "forest_pred = rforest.predict(X_test)"
   ]
  },
  {
   "cell_type": "code",
   "execution_count": null,
   "metadata": {},
   "outputs": [],
   "source": [
    "metric_scores(y_test, forest_pred)"
   ]
  },
  {
   "cell_type": "code",
   "execution_count": null,
   "metadata": {},
   "outputs": [],
   "source": [
    "plot_confusion_matrix(rforest, X_test, y_test, cmap=plt.cm.Blues)\n",
    "plt.title('Random Forest Confusion Matrix')"
   ]
  },
  {
   "cell_type": "markdown",
   "metadata": {},
   "source": [
    "The random forest model performed similarly to the decision tree. To save processing time and power, the final model is the decision tree."
   ]
  },
  {
   "cell_type": "markdown",
   "metadata": {},
   "source": [
    "# Feature Importance"
   ]
  },
  {
   "cell_type": "code",
   "execution_count": null,
   "metadata": {},
   "outputs": [],
   "source": [
    "plt.figure(figsize=(8,10))\n",
    "plt.barh(range(len(X_train.columns)), dtree.feature_importances_, align='center') \n",
    "plt.yticks(np.arange(len(X_train.columns)), X_train.columns.values) \n",
    "plt.xlabel('Feature importance')\n",
    "plt.ylabel('Feature')"
   ]
  },
  {
   "cell_type": "markdown",
   "metadata": {},
   "source": [
    "# Conclusions"
   ]
  },
  {
   "cell_type": "markdown",
   "metadata": {},
   "source": [
    "The most important feature to a random stop influencing if a subject is arrested is whether or not the subject was frisked. Following that is the age of the officer and whether or not the subject had any weapons. the type of weapon did not matter. "
   ]
  },
  {
   "cell_type": "markdown",
   "metadata": {},
   "source": [
    "The decision tree classifier trained with this data had an accuracy rating of about 75%"
   ]
  },
  {
   "cell_type": "markdown",
   "metadata": {},
   "source": [
    "# Future Work"
   ]
  },
  {
   "cell_type": "markdown",
   "metadata": {},
   "source": [
    "In the future it would be beneficial to explore ways to decrease the rate of false positives in our model.\n",
    "\n",
    "Also, incorporating data from a wider geographic area could make for a more comprehensive model."
   ]
  }
 ],
 "metadata": {
  "kernelspec": {
   "display_name": "Python (learn-env)",
   "language": "python",
   "name": "learn-env"
  },
  "language_info": {
   "codemirror_mode": {
    "name": "ipython",
    "version": 3
   },
   "file_extension": ".py",
   "mimetype": "text/x-python",
   "name": "python",
   "nbconvert_exporter": "python",
   "pygments_lexer": "ipython3",
   "version": "3.10.13"
  }
 },
 "nbformat": 4,
 "nbformat_minor": 4
}
